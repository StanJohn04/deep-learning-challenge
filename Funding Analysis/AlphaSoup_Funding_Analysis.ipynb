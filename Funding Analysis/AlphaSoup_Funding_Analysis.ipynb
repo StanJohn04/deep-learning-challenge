{
  "cells": [
    {
      "cell_type": "markdown",
      "metadata": {
        "id": "NVuk4IA6nD1b"
      },
      "source": [
        "## Preprocessing"
      ]
    },
    {
      "cell_type": "code",
      "source": [
        "# Import our dependencies\n",
        "from sklearn.model_selection import train_test_split\n",
        "from sklearn.preprocessing import StandardScaler\n",
        "from sklearn.metrics import accuracy_score\n",
        "import pandas as pd\n",
        "import tensorflow as tf\n",
        "import matplotlib.pyplot as plt\n",
        "from tensorflow import keras\n",
        "from tensorflow.keras import layers"
      ],
      "metadata": {
        "id": "hZwFwkVwjVj1"
      },
      "execution_count": 1,
      "outputs": []
    },
    {
      "cell_type": "code",
      "execution_count": 2,
      "metadata": {
        "colab": {
          "base_uri": "https://localhost:8080/",
          "height": 496
        },
        "id": "AGUvjn0BnD1e",
        "outputId": "05345e0f-67c5-4244-9bc6-6b23026a61a2"
      },
      "outputs": [
        {
          "output_type": "execute_result",
          "data": {
            "text/plain": [
              "        EIN                                      NAME APPLICATION_TYPE  \\\n",
              "0  10520599              BLUE KNIGHTS MOTORCYCLE CLUB              T10   \n",
              "1  10531628    AMERICAN CHESAPEAKE CLUB CHARITABLE TR               T3   \n",
              "2  10547893        ST CLOUD PROFESSIONAL FIREFIGHTERS               T5   \n",
              "3  10553066            SOUTHSIDE ATHLETIC ASSOCIATION               T3   \n",
              "4  10556103  GENETIC RESEARCH INSTITUTE OF THE DESERT               T3   \n",
              "\n",
              "        AFFILIATION CLASSIFICATION      USE_CASE  ORGANIZATION  STATUS  \\\n",
              "0       Independent          C1000    ProductDev   Association       1   \n",
              "1       Independent          C2000  Preservation  Co-operative       1   \n",
              "2  CompanySponsored          C3000    ProductDev   Association       1   \n",
              "3  CompanySponsored          C2000  Preservation         Trust       1   \n",
              "4       Independent          C1000     Heathcare         Trust       1   \n",
              "\n",
              "      INCOME_AMT SPECIAL_CONSIDERATIONS  ASK_AMT  IS_SUCCESSFUL  \n",
              "0              0                      N     5000              1  \n",
              "1         1-9999                      N   108590              1  \n",
              "2              0                      N     5000              0  \n",
              "3    10000-24999                      N     6692              1  \n",
              "4  100000-499999                      N   142590              1  "
            ],
            "text/html": [
              "\n",
              "\n",
              "  <div id=\"df-def3a2f8-8c45-4085-8209-cefa1f8722ce\">\n",
              "    <div class=\"colab-df-container\">\n",
              "      <div>\n",
              "<style scoped>\n",
              "    .dataframe tbody tr th:only-of-type {\n",
              "        vertical-align: middle;\n",
              "    }\n",
              "\n",
              "    .dataframe tbody tr th {\n",
              "        vertical-align: top;\n",
              "    }\n",
              "\n",
              "    .dataframe thead th {\n",
              "        text-align: right;\n",
              "    }\n",
              "</style>\n",
              "<table border=\"1\" class=\"dataframe\">\n",
              "  <thead>\n",
              "    <tr style=\"text-align: right;\">\n",
              "      <th></th>\n",
              "      <th>EIN</th>\n",
              "      <th>NAME</th>\n",
              "      <th>APPLICATION_TYPE</th>\n",
              "      <th>AFFILIATION</th>\n",
              "      <th>CLASSIFICATION</th>\n",
              "      <th>USE_CASE</th>\n",
              "      <th>ORGANIZATION</th>\n",
              "      <th>STATUS</th>\n",
              "      <th>INCOME_AMT</th>\n",
              "      <th>SPECIAL_CONSIDERATIONS</th>\n",
              "      <th>ASK_AMT</th>\n",
              "      <th>IS_SUCCESSFUL</th>\n",
              "    </tr>\n",
              "  </thead>\n",
              "  <tbody>\n",
              "    <tr>\n",
              "      <th>0</th>\n",
              "      <td>10520599</td>\n",
              "      <td>BLUE KNIGHTS MOTORCYCLE CLUB</td>\n",
              "      <td>T10</td>\n",
              "      <td>Independent</td>\n",
              "      <td>C1000</td>\n",
              "      <td>ProductDev</td>\n",
              "      <td>Association</td>\n",
              "      <td>1</td>\n",
              "      <td>0</td>\n",
              "      <td>N</td>\n",
              "      <td>5000</td>\n",
              "      <td>1</td>\n",
              "    </tr>\n",
              "    <tr>\n",
              "      <th>1</th>\n",
              "      <td>10531628</td>\n",
              "      <td>AMERICAN CHESAPEAKE CLUB CHARITABLE TR</td>\n",
              "      <td>T3</td>\n",
              "      <td>Independent</td>\n",
              "      <td>C2000</td>\n",
              "      <td>Preservation</td>\n",
              "      <td>Co-operative</td>\n",
              "      <td>1</td>\n",
              "      <td>1-9999</td>\n",
              "      <td>N</td>\n",
              "      <td>108590</td>\n",
              "      <td>1</td>\n",
              "    </tr>\n",
              "    <tr>\n",
              "      <th>2</th>\n",
              "      <td>10547893</td>\n",
              "      <td>ST CLOUD PROFESSIONAL FIREFIGHTERS</td>\n",
              "      <td>T5</td>\n",
              "      <td>CompanySponsored</td>\n",
              "      <td>C3000</td>\n",
              "      <td>ProductDev</td>\n",
              "      <td>Association</td>\n",
              "      <td>1</td>\n",
              "      <td>0</td>\n",
              "      <td>N</td>\n",
              "      <td>5000</td>\n",
              "      <td>0</td>\n",
              "    </tr>\n",
              "    <tr>\n",
              "      <th>3</th>\n",
              "      <td>10553066</td>\n",
              "      <td>SOUTHSIDE ATHLETIC ASSOCIATION</td>\n",
              "      <td>T3</td>\n",
              "      <td>CompanySponsored</td>\n",
              "      <td>C2000</td>\n",
              "      <td>Preservation</td>\n",
              "      <td>Trust</td>\n",
              "      <td>1</td>\n",
              "      <td>10000-24999</td>\n",
              "      <td>N</td>\n",
              "      <td>6692</td>\n",
              "      <td>1</td>\n",
              "    </tr>\n",
              "    <tr>\n",
              "      <th>4</th>\n",
              "      <td>10556103</td>\n",
              "      <td>GENETIC RESEARCH INSTITUTE OF THE DESERT</td>\n",
              "      <td>T3</td>\n",
              "      <td>Independent</td>\n",
              "      <td>C1000</td>\n",
              "      <td>Heathcare</td>\n",
              "      <td>Trust</td>\n",
              "      <td>1</td>\n",
              "      <td>100000-499999</td>\n",
              "      <td>N</td>\n",
              "      <td>142590</td>\n",
              "      <td>1</td>\n",
              "    </tr>\n",
              "  </tbody>\n",
              "</table>\n",
              "</div>\n",
              "      <button class=\"colab-df-convert\" onclick=\"convertToInteractive('df-def3a2f8-8c45-4085-8209-cefa1f8722ce')\"\n",
              "              title=\"Convert this dataframe to an interactive table.\"\n",
              "              style=\"display:none;\">\n",
              "\n",
              "  <svg xmlns=\"http://www.w3.org/2000/svg\" height=\"24px\"viewBox=\"0 0 24 24\"\n",
              "       width=\"24px\">\n",
              "    <path d=\"M0 0h24v24H0V0z\" fill=\"none\"/>\n",
              "    <path d=\"M18.56 5.44l.94 2.06.94-2.06 2.06-.94-2.06-.94-.94-2.06-.94 2.06-2.06.94zm-11 1L8.5 8.5l.94-2.06 2.06-.94-2.06-.94L8.5 2.5l-.94 2.06-2.06.94zm10 10l.94 2.06.94-2.06 2.06-.94-2.06-.94-.94-2.06-.94 2.06-2.06.94z\"/><path d=\"M17.41 7.96l-1.37-1.37c-.4-.4-.92-.59-1.43-.59-.52 0-1.04.2-1.43.59L10.3 9.45l-7.72 7.72c-.78.78-.78 2.05 0 2.83L4 21.41c.39.39.9.59 1.41.59.51 0 1.02-.2 1.41-.59l7.78-7.78 2.81-2.81c.8-.78.8-2.07 0-2.86zM5.41 20L4 18.59l7.72-7.72 1.47 1.35L5.41 20z\"/>\n",
              "  </svg>\n",
              "      </button>\n",
              "\n",
              "\n",
              "\n",
              "    <div id=\"df-9c97c338-0006-4e1e-8de0-91d69b7a619e\">\n",
              "      <button class=\"colab-df-quickchart\" onclick=\"quickchart('df-9c97c338-0006-4e1e-8de0-91d69b7a619e')\"\n",
              "              title=\"Suggest charts.\"\n",
              "              style=\"display:none;\">\n",
              "\n",
              "<svg xmlns=\"http://www.w3.org/2000/svg\" height=\"24px\"viewBox=\"0 0 24 24\"\n",
              "     width=\"24px\">\n",
              "    <g>\n",
              "        <path d=\"M19 3H5c-1.1 0-2 .9-2 2v14c0 1.1.9 2 2 2h14c1.1 0 2-.9 2-2V5c0-1.1-.9-2-2-2zM9 17H7v-7h2v7zm4 0h-2V7h2v10zm4 0h-2v-4h2v4z\"/>\n",
              "    </g>\n",
              "</svg>\n",
              "      </button>\n",
              "    </div>\n",
              "\n",
              "<style>\n",
              "  .colab-df-quickchart {\n",
              "    background-color: #E8F0FE;\n",
              "    border: none;\n",
              "    border-radius: 50%;\n",
              "    cursor: pointer;\n",
              "    display: none;\n",
              "    fill: #1967D2;\n",
              "    height: 32px;\n",
              "    padding: 0 0 0 0;\n",
              "    width: 32px;\n",
              "  }\n",
              "\n",
              "  .colab-df-quickchart:hover {\n",
              "    background-color: #E2EBFA;\n",
              "    box-shadow: 0px 1px 2px rgba(60, 64, 67, 0.3), 0px 1px 3px 1px rgba(60, 64, 67, 0.15);\n",
              "    fill: #174EA6;\n",
              "  }\n",
              "\n",
              "  [theme=dark] .colab-df-quickchart {\n",
              "    background-color: #3B4455;\n",
              "    fill: #D2E3FC;\n",
              "  }\n",
              "\n",
              "  [theme=dark] .colab-df-quickchart:hover {\n",
              "    background-color: #434B5C;\n",
              "    box-shadow: 0px 1px 3px 1px rgba(0, 0, 0, 0.15);\n",
              "    filter: drop-shadow(0px 1px 2px rgba(0, 0, 0, 0.3));\n",
              "    fill: #FFFFFF;\n",
              "  }\n",
              "</style>\n",
              "\n",
              "    <script>\n",
              "      async function quickchart(key) {\n",
              "        const containerElement = document.querySelector('#' + key);\n",
              "        const charts = await google.colab.kernel.invokeFunction(\n",
              "            'suggestCharts', [key], {});\n",
              "      }\n",
              "    </script>\n",
              "\n",
              "      <script>\n",
              "\n",
              "function displayQuickchartButton(domScope) {\n",
              "  let quickchartButtonEl =\n",
              "    domScope.querySelector('#df-9c97c338-0006-4e1e-8de0-91d69b7a619e button.colab-df-quickchart');\n",
              "  quickchartButtonEl.style.display =\n",
              "    google.colab.kernel.accessAllowed ? 'block' : 'none';\n",
              "}\n",
              "\n",
              "        displayQuickchartButton(document);\n",
              "      </script>\n",
              "      <style>\n",
              "    .colab-df-container {\n",
              "      display:flex;\n",
              "      flex-wrap:wrap;\n",
              "      gap: 12px;\n",
              "    }\n",
              "\n",
              "    .colab-df-convert {\n",
              "      background-color: #E8F0FE;\n",
              "      border: none;\n",
              "      border-radius: 50%;\n",
              "      cursor: pointer;\n",
              "      display: none;\n",
              "      fill: #1967D2;\n",
              "      height: 32px;\n",
              "      padding: 0 0 0 0;\n",
              "      width: 32px;\n",
              "    }\n",
              "\n",
              "    .colab-df-convert:hover {\n",
              "      background-color: #E2EBFA;\n",
              "      box-shadow: 0px 1px 2px rgba(60, 64, 67, 0.3), 0px 1px 3px 1px rgba(60, 64, 67, 0.15);\n",
              "      fill: #174EA6;\n",
              "    }\n",
              "\n",
              "    [theme=dark] .colab-df-convert {\n",
              "      background-color: #3B4455;\n",
              "      fill: #D2E3FC;\n",
              "    }\n",
              "\n",
              "    [theme=dark] .colab-df-convert:hover {\n",
              "      background-color: #434B5C;\n",
              "      box-shadow: 0px 1px 3px 1px rgba(0, 0, 0, 0.15);\n",
              "      filter: drop-shadow(0px 1px 2px rgba(0, 0, 0, 0.3));\n",
              "      fill: #FFFFFF;\n",
              "    }\n",
              "  </style>\n",
              "\n",
              "      <script>\n",
              "        const buttonEl =\n",
              "          document.querySelector('#df-def3a2f8-8c45-4085-8209-cefa1f8722ce button.colab-df-convert');\n",
              "        buttonEl.style.display =\n",
              "          google.colab.kernel.accessAllowed ? 'block' : 'none';\n",
              "\n",
              "        async function convertToInteractive(key) {\n",
              "          const element = document.querySelector('#df-def3a2f8-8c45-4085-8209-cefa1f8722ce');\n",
              "          const dataTable =\n",
              "            await google.colab.kernel.invokeFunction('convertToInteractive',\n",
              "                                                     [key], {});\n",
              "          if (!dataTable) return;\n",
              "\n",
              "          const docLinkHtml = 'Like what you see? Visit the ' +\n",
              "            '<a target=\"_blank\" href=https://colab.research.google.com/notebooks/data_table.ipynb>data table notebook</a>'\n",
              "            + ' to learn more about interactive tables.';\n",
              "          element.innerHTML = '';\n",
              "          dataTable['output_type'] = 'display_data';\n",
              "          await google.colab.output.renderOutput(dataTable, element);\n",
              "          const docLink = document.createElement('div');\n",
              "          docLink.innerHTML = docLinkHtml;\n",
              "          element.appendChild(docLink);\n",
              "        }\n",
              "      </script>\n",
              "    </div>\n",
              "  </div>\n"
            ]
          },
          "metadata": {},
          "execution_count": 2
        }
      ],
      "source": [
        "#  Import and read the charity_data.csv.\n",
        "import pandas as pd\n",
        "application_df = pd.read_csv(\"https://static.bc-edx.com/data/dl-1-2/m21/lms/starter/charity_data.csv\")\n",
        "application_df.head()"
      ]
    },
    {
      "cell_type": "code",
      "execution_count": 3,
      "metadata": {
        "id": "QItZpuy4nD1f"
      },
      "outputs": [],
      "source": [
        "# Drop the non-beneficial ID columns, 'EIN' and 'NAME'.\n",
        "df = application_df.drop(columns=['EIN','NAME'])"
      ]
    },
    {
      "cell_type": "code",
      "execution_count": 4,
      "metadata": {
        "colab": {
          "base_uri": "https://localhost:8080/"
        },
        "id": "TqZrBRIInD1g",
        "outputId": "cd7e3810-7390-4d5d-8367-9e9e2686c71d"
      },
      "outputs": [
        {
          "output_type": "execute_result",
          "data": {
            "text/plain": [
              "APPLICATION_TYPE            17\n",
              "AFFILIATION                  6\n",
              "CLASSIFICATION              71\n",
              "USE_CASE                     5\n",
              "ORGANIZATION                 4\n",
              "STATUS                       2\n",
              "INCOME_AMT                   9\n",
              "SPECIAL_CONSIDERATIONS       2\n",
              "ASK_AMT                   8747\n",
              "IS_SUCCESSFUL                2\n",
              "dtype: int64"
            ]
          },
          "metadata": {},
          "execution_count": 4
        }
      ],
      "source": [
        "# Determine the number of unique values in each column.\n",
        "df.nunique()"
      ]
    },
    {
      "cell_type": "code",
      "execution_count": 5,
      "metadata": {
        "colab": {
          "base_uri": "https://localhost:8080/"
        },
        "id": "rm4brj75nD1g",
        "outputId": "b56f0ab8-6496-417e-b3ba-2b51f457f39d"
      },
      "outputs": [
        {
          "output_type": "execute_result",
          "data": {
            "text/plain": [
              "T3     27037\n",
              "T4      1542\n",
              "T6      1216\n",
              "T5      1173\n",
              "T19     1065\n",
              "T8       737\n",
              "T7       725\n",
              "T10      528\n",
              "T9       156\n",
              "T13       66\n",
              "T12       27\n",
              "T2        16\n",
              "T25        3\n",
              "T14        3\n",
              "T29        2\n",
              "T15        2\n",
              "T17        1\n",
              "Name: APPLICATION_TYPE, dtype: int64"
            ]
          },
          "metadata": {},
          "execution_count": 5
        }
      ],
      "source": [
        "# Look at APPLICATION_TYPE value counts for binning\n",
        "application_types = df['APPLICATION_TYPE'].value_counts()\n",
        "application_types"
      ]
    },
    {
      "cell_type": "code",
      "execution_count": 6,
      "metadata": {
        "colab": {
          "base_uri": "https://localhost:8080/"
        },
        "id": "GM6uCLcTnD1h",
        "outputId": "c7f3d292-7b74-4e88-f74c-c22d97edc84f"
      },
      "outputs": [
        {
          "output_type": "execute_result",
          "data": {
            "text/plain": [
              "T3       27037\n",
              "T4        1542\n",
              "T6        1216\n",
              "T5        1173\n",
              "T19       1065\n",
              "T8         737\n",
              "T7         725\n",
              "T10        528\n",
              "Other      276\n",
              "Name: APPLICATION_TYPE, dtype: int64"
            ]
          },
          "metadata": {},
          "execution_count": 6
        }
      ],
      "source": [
        "# Choose a cutoff value and create a list of application types to be replaced\n",
        "# use the variable name `application_types_to_replace`\n",
        "application_types_to_replace = [index for index,row in application_types.items() if row < 500]\n",
        "\n",
        "# Replace in dataframe\n",
        "for app in application_types_to_replace:\n",
        "    df['APPLICATION_TYPE'] = df['APPLICATION_TYPE'].replace(app,\"Other\")\n",
        "\n",
        "# Check to make sure binning was successful\n",
        "df['APPLICATION_TYPE'].value_counts()"
      ]
    },
    {
      "cell_type": "code",
      "execution_count": 7,
      "metadata": {
        "id": "yV_aw4oonD1h",
        "outputId": "896d4c10-dc4c-4d34-f306-f4f89512e0fc",
        "colab": {
          "base_uri": "https://localhost:8080/"
        }
      },
      "outputs": [
        {
          "output_type": "execute_result",
          "data": {
            "text/plain": [
              "C1000    17326\n",
              "C2000     6074\n",
              "C1200     4837\n",
              "C3000     1918\n",
              "C2100     1883\n",
              "         ...  \n",
              "C4120        1\n",
              "C8210        1\n",
              "C2561        1\n",
              "C4500        1\n",
              "C2150        1\n",
              "Name: CLASSIFICATION, Length: 71, dtype: int64"
            ]
          },
          "metadata": {},
          "execution_count": 7
        }
      ],
      "source": [
        "# Look at CLASSIFICATION value counts for binning\n",
        "classification_types = df['CLASSIFICATION'].value_counts()\n",
        "classification_types"
      ]
    },
    {
      "cell_type": "code",
      "execution_count": 8,
      "metadata": {
        "id": "BKSj1WI6nD1i",
        "outputId": "32533bed-87d1-4ac4-d643-e44ec78c1fc7",
        "colab": {
          "base_uri": "https://localhost:8080/"
        }
      },
      "outputs": [
        {
          "output_type": "execute_result",
          "data": {
            "text/plain": [
              "[['C1000', 17326],\n",
              " ['C2000', 6074],\n",
              " ['C1200', 4837],\n",
              " ['C3000', 1918],\n",
              " ['C2100', 1883],\n",
              " ['C7000', 777],\n",
              " ['C1700', 287],\n",
              " ['C4000', 194],\n",
              " ['C5000', 116],\n",
              " ['C1270', 114],\n",
              " ['C2700', 104],\n",
              " ['C2800', 95],\n",
              " ['C7100', 75],\n",
              " ['C1300', 58],\n",
              " ['C1280', 50],\n",
              " ['C1230', 36],\n",
              " ['C1400', 34],\n",
              " ['C7200', 32],\n",
              " ['C2300', 32],\n",
              " ['C1240', 30],\n",
              " ['C8000', 20],\n",
              " ['C7120', 18],\n",
              " ['C1500', 16],\n",
              " ['C1800', 15],\n",
              " ['C6000', 15],\n",
              " ['C1250', 14],\n",
              " ['C8200', 11],\n",
              " ['C1238', 10],\n",
              " ['C1278', 10],\n",
              " ['C1235', 9],\n",
              " ['C1237', 9],\n",
              " ['C7210', 7],\n",
              " ['C2400', 6],\n",
              " ['C1720', 6],\n",
              " ['C4100', 6],\n",
              " ['C1257', 5],\n",
              " ['C1600', 5],\n",
              " ['C1260', 3],\n",
              " ['C2710', 3],\n",
              " ['C0', 3],\n",
              " ['C3200', 2],\n",
              " ['C1234', 2],\n",
              " ['C1246', 2],\n",
              " ['C1267', 2],\n",
              " ['C1256', 2]]"
            ]
          },
          "metadata": {},
          "execution_count": 8
        }
      ],
      "source": [
        "# You may find it helpful to look at CLASSIFICATION value counts >1\n",
        "[[index,row] for index,row in classification_types.items() if row > 1]"
      ]
    },
    {
      "cell_type": "code",
      "execution_count": 9,
      "metadata": {
        "id": "ZDGDRokvnD1j",
        "outputId": "58d78f3d-d0c5-4b0c-a9ed-324d83c6f344",
        "colab": {
          "base_uri": "https://localhost:8080/"
        }
      },
      "outputs": [
        {
          "output_type": "execute_result",
          "data": {
            "text/plain": [
              "C1000    17326\n",
              "C2000     6074\n",
              "C1200     4837\n",
              "C3000     1918\n",
              "C2100     1883\n",
              "Other     1484\n",
              "C7000      777\n",
              "Name: CLASSIFICATION, dtype: int64"
            ]
          },
          "metadata": {},
          "execution_count": 9
        }
      ],
      "source": [
        "# use the variable name `classifications_to_replace`\n",
        "classifications_to_replace = [index for index,row in classification_types.items() if row < classification_types.mean()]\n",
        "\n",
        "# Replace in dataframe\n",
        "for cls in classifications_to_replace:\n",
        "    df['CLASSIFICATION'] = df['CLASSIFICATION'].replace(cls,\"Other\")\n",
        "\n",
        "# Check to make sure binning was successful\n",
        "df['CLASSIFICATION'].value_counts()"
      ]
    },
    {
      "cell_type": "code",
      "source": [
        "# Convert categorical data to numeric with `pd.get_dummies`\n",
        "dummies = pd.get_dummies(df[['APPLICATION_TYPE', 'AFFILIATION', 'CLASSIFICATION', 'USE_CASE',\n",
        "       'ORGANIZATION', 'INCOME_AMT', 'SPECIAL_CONSIDERATIONS']])\n",
        "processed_df = pd.concat([df[['STATUS', 'ASK_AMT']], dummies], axis=1)"
      ],
      "metadata": {
        "id": "p1fRE9kmMEp8"
      },
      "execution_count": 10,
      "outputs": []
    },
    {
      "cell_type": "code",
      "execution_count": 11,
      "metadata": {
        "id": "SIp7gasDnD1k"
      },
      "outputs": [],
      "source": [
        "# Split our preprocessed data into our features and target arrays\n",
        "X = processed_df\n",
        "y = df['IS_SUCCESSFUL']\n",
        "\n",
        "# Split the preprocessed data into a training and testing dataset\n",
        "X_train, X_test, y_train, y_test = train_test_split(X, y,\n",
        "                                                    test_size=.2,\n",
        "                                                    random_state=42)"
      ]
    },
    {
      "cell_type": "code",
      "source": [
        "print(f\"X_train Shape: {X_train.shape}, X_test Shape: {X_test.shape}\")"
      ],
      "metadata": {
        "colab": {
          "base_uri": "https://localhost:8080/"
        },
        "id": "g5n_o7u1RQac",
        "outputId": "c3152488-f6a8-466e-8f6e-3f76c757b087"
      },
      "execution_count": 12,
      "outputs": [
        {
          "output_type": "stream",
          "name": "stdout",
          "text": [
            "X_train Shape: (27439, 44), X_test Shape: (6860, 44)\n"
          ]
        }
      ]
    },
    {
      "cell_type": "code",
      "execution_count": 13,
      "metadata": {
        "id": "3fnGayrnnD1k"
      },
      "outputs": [],
      "source": [
        "# Create a StandardScaler instances\n",
        "scaler = StandardScaler()\n",
        "\n",
        "# Fit the StandardScaler\n",
        "X_scaler = scaler.fit(X_train)\n",
        "\n",
        "# Scale the data\n",
        "X_train_scaled = X_scaler.transform(X_train)\n",
        "X_test_scaled = X_scaler.transform(X_test)"
      ]
    },
    {
      "cell_type": "markdown",
      "metadata": {
        "id": "IuYjJTDBnD1k"
      },
      "source": [
        "## Compile, Train and Evaluate the Model"
      ]
    },
    {
      "cell_type": "code",
      "execution_count": 14,
      "metadata": {
        "id": "Bbe71P3vnD1l",
        "outputId": "667d6ced-f3b5-4cef-9af6-19a5a83db2ea",
        "colab": {
          "base_uri": "https://localhost:8080/"
        }
      },
      "outputs": [
        {
          "output_type": "stream",
          "name": "stdout",
          "text": [
            "Model: \"sequential\"\n",
            "_________________________________________________________________\n",
            " Layer (type)                Output Shape              Param #   \n",
            "=================================================================\n",
            " dense (Dense)               (None, 5)                 225       \n",
            "                                                                 \n",
            " dense_1 (Dense)             (None, 3)                 18        \n",
            "                                                                 \n",
            " dense_2 (Dense)             (None, 1)                 4         \n",
            "                                                                 \n",
            " dense_3 (Dense)             (None, 5)                 10        \n",
            "                                                                 \n",
            " dense_4 (Dense)             (None, 1)                 6         \n",
            "                                                                 \n",
            "=================================================================\n",
            "Total params: 263\n",
            "Trainable params: 263\n",
            "Non-trainable params: 0\n",
            "_________________________________________________________________\n"
          ]
        }
      ],
      "source": [
        "# Define the model - deep neural net, i.e., the number of input features and hidden nodes for each layer.\n",
        "model = tf.keras.models.Sequential()\n",
        "\n",
        "# First layer\n",
        "model.add(tf.keras.layers.Dense(units=5,activation=\"tanh\", input_dim=44))\n",
        "\n",
        "# # Second layer\n",
        "model.add(tf.keras.layers.Dense(units=3, activation='tanh'))\n",
        "# # Third layer\n",
        "model.add(tf.keras.layers.Dense(units=1, activation='tanh'))\n",
        "# # Fourth layer\n",
        "model.add(tf.keras.layers.Dense(units=5, activation='tanh'))\n",
        "\n",
        "# Output layer\n",
        "model.add(tf.keras.layers.Dense(units=1, activation='sigmoid'))\n",
        "\n",
        "# Check the structure of the model\n",
        "model.build()\n",
        "model.summary()"
      ]
    },
    {
      "cell_type": "code",
      "execution_count": 15,
      "metadata": {
        "id": "YvioZ9cRnD1l"
      },
      "outputs": [],
      "source": [
        "# Compile the model\n",
        "model.compile(loss=\"BinaryCrossentropy\", optimizer=\"adam\", metrics=['accuracy', 'mse'])"
      ]
    },
    {
      "cell_type": "code",
      "execution_count": 16,
      "metadata": {
        "id": "CDH05gcrnD1l",
        "colab": {
          "base_uri": "https://localhost:8080/"
        },
        "outputId": "2ff1f080-7b4d-4bbb-acb9-51b3531da4a7"
      },
      "outputs": [
        {
          "output_type": "stream",
          "name": "stdout",
          "text": [
            "Epoch 1/100\n",
            "858/858 [==============================] - 5s 4ms/step - loss: 0.6076 - accuracy: 0.7018 - mse: 0.2087 - val_loss: 0.8083 - val_accuracy: 0.5341 - val_mse: 0.2987\n",
            "Epoch 2/100\n",
            "858/858 [==============================] - 2s 3ms/step - loss: 0.5740 - accuracy: 0.7298 - mse: 0.1932 - val_loss: 0.7757 - val_accuracy: 0.5341 - val_mse: 0.2863\n",
            "Epoch 3/100\n",
            "858/858 [==============================] - 2s 3ms/step - loss: 0.5716 - accuracy: 0.7315 - mse: 0.1922 - val_loss: 0.8247 - val_accuracy: 0.5341 - val_mse: 0.3046\n",
            "Epoch 4/100\n",
            "858/858 [==============================] - 2s 3ms/step - loss: 0.5697 - accuracy: 0.7318 - mse: 0.1915 - val_loss: 0.8376 - val_accuracy: 0.5341 - val_mse: 0.3091\n",
            "Epoch 5/100\n",
            "858/858 [==============================] - 3s 3ms/step - loss: 0.5659 - accuracy: 0.7313 - mse: 0.1901 - val_loss: 0.6929 - val_accuracy: 0.5341 - val_mse: 0.2498\n",
            "Epoch 6/100\n",
            "858/858 [==============================] - 3s 4ms/step - loss: 0.5621 - accuracy: 0.7313 - mse: 0.1886 - val_loss: 0.6916 - val_accuracy: 0.5341 - val_mse: 0.2492\n",
            "Epoch 7/100\n",
            "858/858 [==============================] - 2s 3ms/step - loss: 0.5587 - accuracy: 0.7320 - mse: 0.1874 - val_loss: 0.6929 - val_accuracy: 0.5341 - val_mse: 0.2499\n",
            "Epoch 8/100\n",
            "858/858 [==============================] - 2s 3ms/step - loss: 0.5570 - accuracy: 0.7319 - mse: 0.1868 - val_loss: 0.6935 - val_accuracy: 0.4659 - val_mse: 0.2502\n",
            "Epoch 9/100\n",
            "858/858 [==============================] - 2s 3ms/step - loss: 0.5562 - accuracy: 0.7310 - mse: 0.1866 - val_loss: 0.6995 - val_accuracy: 0.4659 - val_mse: 0.2531\n",
            "Epoch 10/100\n",
            "858/858 [==============================] - 3s 3ms/step - loss: 0.5549 - accuracy: 0.7306 - mse: 0.1861 - val_loss: 0.6933 - val_accuracy: 0.4659 - val_mse: 0.2501\n",
            "Epoch 11/100\n",
            "858/858 [==============================] - 3s 4ms/step - loss: 0.5545 - accuracy: 0.7304 - mse: 0.1860 - val_loss: 0.6999 - val_accuracy: 0.4659 - val_mse: 0.2534\n",
            "Epoch 12/100\n",
            "858/858 [==============================] - 2s 3ms/step - loss: 0.5537 - accuracy: 0.7313 - mse: 0.1856 - val_loss: 0.6984 - val_accuracy: 0.4659 - val_mse: 0.2526\n",
            "Epoch 13/100\n",
            "858/858 [==============================] - 2s 3ms/step - loss: 0.5533 - accuracy: 0.7302 - mse: 0.1855 - val_loss: 0.6972 - val_accuracy: 0.4659 - val_mse: 0.2520\n",
            "Epoch 14/100\n",
            "858/858 [==============================] - 2s 3ms/step - loss: 0.5531 - accuracy: 0.7323 - mse: 0.1854 - val_loss: 0.6960 - val_accuracy: 0.4659 - val_mse: 0.2514\n",
            "Epoch 15/100\n",
            "858/858 [==============================] - 3s 3ms/step - loss: 0.5524 - accuracy: 0.7322 - mse: 0.1852 - val_loss: 0.6931 - val_accuracy: 0.5341 - val_mse: 0.2500\n",
            "Epoch 16/100\n",
            "858/858 [==============================] - 3s 3ms/step - loss: 0.5524 - accuracy: 0.7320 - mse: 0.1852 - val_loss: 0.6913 - val_accuracy: 0.5341 - val_mse: 0.2491\n",
            "Epoch 17/100\n",
            "858/858 [==============================] - 2s 3ms/step - loss: 0.5518 - accuracy: 0.7312 - mse: 0.1850 - val_loss: 0.6930 - val_accuracy: 0.5341 - val_mse: 0.2499\n",
            "Epoch 18/100\n",
            "858/858 [==============================] - 3s 3ms/step - loss: 0.5513 - accuracy: 0.7319 - mse: 0.1848 - val_loss: 0.6913 - val_accuracy: 0.5341 - val_mse: 0.2491\n",
            "Epoch 19/100\n",
            "858/858 [==============================] - 2s 3ms/step - loss: 0.5514 - accuracy: 0.7308 - mse: 0.1849 - val_loss: 0.6909 - val_accuracy: 0.5341 - val_mse: 0.2489\n",
            "Epoch 20/100\n",
            "858/858 [==============================] - 4s 4ms/step - loss: 0.5509 - accuracy: 0.7311 - mse: 0.1847 - val_loss: 0.6921 - val_accuracy: 0.5341 - val_mse: 0.2495\n",
            "Epoch 21/100\n",
            "858/858 [==============================] - 2s 3ms/step - loss: 0.5505 - accuracy: 0.7312 - mse: 0.1846 - val_loss: 0.6908 - val_accuracy: 0.5341 - val_mse: 0.2488\n",
            "Epoch 22/100\n",
            "858/858 [==============================] - 2s 3ms/step - loss: 0.5499 - accuracy: 0.7312 - mse: 0.1844 - val_loss: 0.6909 - val_accuracy: 0.5341 - val_mse: 0.2489\n",
            "Epoch 23/100\n",
            "858/858 [==============================] - 2s 3ms/step - loss: 0.5500 - accuracy: 0.7325 - mse: 0.1845 - val_loss: 0.6915 - val_accuracy: 0.5341 - val_mse: 0.2492\n",
            "Epoch 24/100\n",
            "858/858 [==============================] - 3s 3ms/step - loss: 0.5497 - accuracy: 0.7302 - mse: 0.1844 - val_loss: 0.6908 - val_accuracy: 0.5341 - val_mse: 0.2488\n",
            "Epoch 25/100\n",
            "858/858 [==============================] - 3s 4ms/step - loss: 0.5492 - accuracy: 0.7313 - mse: 0.1842 - val_loss: 0.6912 - val_accuracy: 0.5341 - val_mse: 0.2490\n",
            "Epoch 26/100\n",
            "858/858 [==============================] - 2s 3ms/step - loss: 0.5494 - accuracy: 0.7314 - mse: 0.1843 - val_loss: 0.6910 - val_accuracy: 0.5341 - val_mse: 0.2489\n",
            "Epoch 27/100\n",
            "858/858 [==============================] - 2s 3ms/step - loss: 0.5490 - accuracy: 0.7314 - mse: 0.1842 - val_loss: 0.9698 - val_accuracy: 0.4659 - val_mse: 0.3625\n",
            "Epoch 28/100\n",
            "858/858 [==============================] - 2s 3ms/step - loss: 0.5491 - accuracy: 0.7314 - mse: 0.1842 - val_loss: 0.9217 - val_accuracy: 0.4659 - val_mse: 0.3465\n",
            "Epoch 29/100\n",
            "858/858 [==============================] - 2s 3ms/step - loss: 0.5487 - accuracy: 0.7318 - mse: 0.1840 - val_loss: 0.7658 - val_accuracy: 0.5341 - val_mse: 0.2823\n",
            "Epoch 30/100\n",
            "858/858 [==============================] - 3s 4ms/step - loss: 0.5487 - accuracy: 0.7320 - mse: 0.1841 - val_loss: 0.7792 - val_accuracy: 0.5341 - val_mse: 0.2876\n",
            "Epoch 31/100\n",
            "858/858 [==============================] - 2s 3ms/step - loss: 0.5487 - accuracy: 0.7314 - mse: 0.1841 - val_loss: 0.7725 - val_accuracy: 0.5341 - val_mse: 0.2850\n",
            "Epoch 32/100\n",
            "858/858 [==============================] - 3s 3ms/step - loss: 0.5483 - accuracy: 0.7315 - mse: 0.1839 - val_loss: 0.7898 - val_accuracy: 0.5341 - val_mse: 0.2918\n",
            "Epoch 33/100\n",
            "858/858 [==============================] - 3s 3ms/step - loss: 0.5484 - accuracy: 0.7320 - mse: 0.1840 - val_loss: 0.7675 - val_accuracy: 0.5341 - val_mse: 0.2830\n",
            "Epoch 34/100\n",
            "858/858 [==============================] - 3s 4ms/step - loss: 0.5482 - accuracy: 0.7322 - mse: 0.1839 - val_loss: 0.7556 - val_accuracy: 0.5341 - val_mse: 0.2781\n",
            "Epoch 35/100\n",
            "858/858 [==============================] - 3s 3ms/step - loss: 0.5483 - accuracy: 0.7316 - mse: 0.1840 - val_loss: 0.7613 - val_accuracy: 0.5341 - val_mse: 0.2805\n",
            "Epoch 36/100\n",
            "858/858 [==============================] - 2s 3ms/step - loss: 0.5479 - accuracy: 0.7324 - mse: 0.1838 - val_loss: 0.7599 - val_accuracy: 0.5341 - val_mse: 0.2799\n",
            "Epoch 37/100\n",
            "858/858 [==============================] - 2s 3ms/step - loss: 0.5479 - accuracy: 0.7321 - mse: 0.1838 - val_loss: 0.7759 - val_accuracy: 0.5341 - val_mse: 0.2863\n",
            "Epoch 38/100\n",
            "858/858 [==============================] - 2s 3ms/step - loss: 0.5481 - accuracy: 0.7321 - mse: 0.1839 - val_loss: 0.7662 - val_accuracy: 0.5341 - val_mse: 0.2825\n",
            "Epoch 39/100\n",
            "858/858 [==============================] - 3s 4ms/step - loss: 0.5476 - accuracy: 0.7322 - mse: 0.1837 - val_loss: 0.7612 - val_accuracy: 0.5341 - val_mse: 0.2804\n",
            "Epoch 40/100\n",
            "858/858 [==============================] - 3s 4ms/step - loss: 0.5476 - accuracy: 0.7309 - mse: 0.1837 - val_loss: 0.7661 - val_accuracy: 0.5341 - val_mse: 0.2824\n",
            "Epoch 41/100\n",
            "858/858 [==============================] - 3s 3ms/step - loss: 0.5477 - accuracy: 0.7313 - mse: 0.1838 - val_loss: 0.7538 - val_accuracy: 0.5341 - val_mse: 0.2773\n",
            "Epoch 42/100\n",
            "858/858 [==============================] - 2s 3ms/step - loss: 0.5475 - accuracy: 0.7326 - mse: 0.1837 - val_loss: 0.7775 - val_accuracy: 0.5341 - val_mse: 0.2870\n",
            "Epoch 43/100\n",
            "858/858 [==============================] - 2s 3ms/step - loss: 0.5474 - accuracy: 0.7322 - mse: 0.1837 - val_loss: 0.7743 - val_accuracy: 0.5341 - val_mse: 0.2857\n",
            "Epoch 44/100\n",
            "858/858 [==============================] - 3s 4ms/step - loss: 0.5473 - accuracy: 0.7320 - mse: 0.1836 - val_loss: 0.7686 - val_accuracy: 0.5341 - val_mse: 0.2834\n",
            "Epoch 45/100\n",
            "858/858 [==============================] - 2s 3ms/step - loss: 0.5473 - accuracy: 0.7327 - mse: 0.1836 - val_loss: 0.7804 - val_accuracy: 0.5341 - val_mse: 0.2881\n",
            "Epoch 46/100\n",
            "858/858 [==============================] - 2s 3ms/step - loss: 0.5469 - accuracy: 0.7323 - mse: 0.1834 - val_loss: 0.7905 - val_accuracy: 0.5341 - val_mse: 0.2920\n",
            "Epoch 47/100\n",
            "858/858 [==============================] - 2s 3ms/step - loss: 0.5473 - accuracy: 0.7323 - mse: 0.1836 - val_loss: 0.7629 - val_accuracy: 0.5341 - val_mse: 0.2811\n",
            "Epoch 48/100\n",
            "858/858 [==============================] - 2s 3ms/step - loss: 0.5473 - accuracy: 0.7315 - mse: 0.1836 - val_loss: 0.7679 - val_accuracy: 0.5341 - val_mse: 0.2832\n",
            "Epoch 49/100\n",
            "858/858 [==============================] - 3s 4ms/step - loss: 0.5470 - accuracy: 0.7336 - mse: 0.1836 - val_loss: 0.7749 - val_accuracy: 0.5341 - val_mse: 0.2859\n",
            "Epoch 50/100\n",
            "858/858 [==============================] - 2s 3ms/step - loss: 0.5469 - accuracy: 0.7328 - mse: 0.1834 - val_loss: 0.7581 - val_accuracy: 0.5341 - val_mse: 0.2792\n",
            "Epoch 51/100\n",
            "858/858 [==============================] - 2s 3ms/step - loss: 0.5472 - accuracy: 0.7322 - mse: 0.1836 - val_loss: 0.7832 - val_accuracy: 0.5341 - val_mse: 0.2892\n",
            "Epoch 52/100\n",
            "858/858 [==============================] - 2s 3ms/step - loss: 0.5466 - accuracy: 0.7336 - mse: 0.1833 - val_loss: 1.0121 - val_accuracy: 0.5341 - val_mse: 0.3587\n",
            "Epoch 53/100\n",
            "858/858 [==============================] - 2s 3ms/step - loss: 0.5468 - accuracy: 0.7327 - mse: 0.1834 - val_loss: 0.7714 - val_accuracy: 0.5341 - val_mse: 0.2845\n",
            "Epoch 54/100\n",
            "858/858 [==============================] - 3s 4ms/step - loss: 0.5465 - accuracy: 0.7336 - mse: 0.1833 - val_loss: 0.7737 - val_accuracy: 0.5341 - val_mse: 0.2855\n",
            "Epoch 55/100\n",
            "858/858 [==============================] - 2s 3ms/step - loss: 0.5466 - accuracy: 0.7324 - mse: 0.1834 - val_loss: 0.7563 - val_accuracy: 0.5341 - val_mse: 0.2784\n",
            "Epoch 56/100\n",
            "858/858 [==============================] - 2s 3ms/step - loss: 0.5469 - accuracy: 0.7321 - mse: 0.1835 - val_loss: 0.7702 - val_accuracy: 0.5341 - val_mse: 0.2841\n",
            "Epoch 57/100\n",
            "858/858 [==============================] - 2s 3ms/step - loss: 0.5463 - accuracy: 0.7322 - mse: 0.1833 - val_loss: 1.0052 - val_accuracy: 0.5341 - val_mse: 0.3571\n",
            "Epoch 58/100\n",
            "858/858 [==============================] - 2s 3ms/step - loss: 0.5464 - accuracy: 0.7338 - mse: 0.1833 - val_loss: 0.7534 - val_accuracy: 0.5341 - val_mse: 0.2772\n",
            "Epoch 59/100\n",
            "858/858 [==============================] - 4s 4ms/step - loss: 0.5464 - accuracy: 0.7342 - mse: 0.1833 - val_loss: 0.7654 - val_accuracy: 0.5341 - val_mse: 0.2821\n",
            "Epoch 60/100\n",
            "858/858 [==============================] - 2s 3ms/step - loss: 0.5465 - accuracy: 0.7325 - mse: 0.1834 - val_loss: 0.7640 - val_accuracy: 0.5341 - val_mse: 0.2815\n",
            "Epoch 61/100\n",
            "858/858 [==============================] - 3s 3ms/step - loss: 0.5464 - accuracy: 0.7337 - mse: 0.1833 - val_loss: 0.8765 - val_accuracy: 0.5341 - val_mse: 0.3185\n",
            "Epoch 62/100\n",
            "858/858 [==============================] - 2s 3ms/step - loss: 0.5462 - accuracy: 0.7328 - mse: 0.1832 - val_loss: 1.0101 - val_accuracy: 0.5341 - val_mse: 0.3583\n",
            "Epoch 63/100\n",
            "858/858 [==============================] - 2s 3ms/step - loss: 0.5460 - accuracy: 0.7341 - mse: 0.1832 - val_loss: 0.7634 - val_accuracy: 0.5341 - val_mse: 0.2813\n",
            "Epoch 64/100\n",
            "858/858 [==============================] - 3s 4ms/step - loss: 0.5460 - accuracy: 0.7325 - mse: 0.1832 - val_loss: 0.7648 - val_accuracy: 0.5341 - val_mse: 0.2819\n",
            "Epoch 65/100\n",
            "858/858 [==============================] - 2s 3ms/step - loss: 0.5459 - accuracy: 0.7329 - mse: 0.1831 - val_loss: 1.0203 - val_accuracy: 0.5341 - val_mse: 0.3606\n",
            "Epoch 66/100\n",
            "858/858 [==============================] - 2s 3ms/step - loss: 0.5461 - accuracy: 0.7329 - mse: 0.1832 - val_loss: 0.7562 - val_accuracy: 0.5341 - val_mse: 0.2784\n",
            "Epoch 67/100\n",
            "858/858 [==============================] - 2s 3ms/step - loss: 0.5458 - accuracy: 0.7321 - mse: 0.1831 - val_loss: 0.9858 - val_accuracy: 0.5341 - val_mse: 0.3524\n",
            "Epoch 68/100\n",
            "858/858 [==============================] - 2s 3ms/step - loss: 0.5459 - accuracy: 0.7313 - mse: 0.1832 - val_loss: 0.7534 - val_accuracy: 0.5341 - val_mse: 0.2770\n",
            "Epoch 69/100\n",
            "858/858 [==============================] - 4s 4ms/step - loss: 0.5460 - accuracy: 0.7328 - mse: 0.1832 - val_loss: 0.7671 - val_accuracy: 0.5341 - val_mse: 0.2828\n",
            "Epoch 70/100\n",
            "858/858 [==============================] - 2s 3ms/step - loss: 0.5459 - accuracy: 0.7336 - mse: 0.1832 - val_loss: 0.7542 - val_accuracy: 0.5341 - val_mse: 0.2775\n",
            "Epoch 71/100\n",
            "858/858 [==============================] - 2s 3ms/step - loss: 0.5456 - accuracy: 0.7318 - mse: 0.1831 - val_loss: 0.7425 - val_accuracy: 0.5341 - val_mse: 0.2726\n",
            "Epoch 72/100\n",
            "858/858 [==============================] - 2s 3ms/step - loss: 0.5457 - accuracy: 0.7328 - mse: 0.1830 - val_loss: 1.0364 - val_accuracy: 0.5341 - val_mse: 0.3642\n",
            "Epoch 73/100\n",
            "858/858 [==============================] - 2s 3ms/step - loss: 0.5458 - accuracy: 0.7321 - mse: 0.1831 - val_loss: 0.7525 - val_accuracy: 0.5341 - val_mse: 0.2768\n",
            "Epoch 74/100\n",
            "858/858 [==============================] - 3s 4ms/step - loss: 0.5454 - accuracy: 0.7320 - mse: 0.1830 - val_loss: 0.7645 - val_accuracy: 0.5341 - val_mse: 0.2818\n",
            "Epoch 75/100\n",
            "858/858 [==============================] - 2s 3ms/step - loss: 0.5456 - accuracy: 0.7316 - mse: 0.1830 - val_loss: 0.7481 - val_accuracy: 0.5341 - val_mse: 0.2749\n",
            "Epoch 76/100\n",
            "858/858 [==============================] - 3s 3ms/step - loss: 0.5458 - accuracy: 0.7318 - mse: 0.1831 - val_loss: 1.0175 - val_accuracy: 0.5341 - val_mse: 0.3600\n",
            "Epoch 77/100\n",
            "858/858 [==============================] - 2s 3ms/step - loss: 0.5457 - accuracy: 0.7329 - mse: 0.1831 - val_loss: 1.0083 - val_accuracy: 0.5341 - val_mse: 0.3578\n",
            "Epoch 78/100\n",
            "858/858 [==============================] - 2s 3ms/step - loss: 0.5452 - accuracy: 0.7322 - mse: 0.1829 - val_loss: 0.7424 - val_accuracy: 0.5341 - val_mse: 0.2725\n",
            "Epoch 79/100\n",
            "858/858 [==============================] - 3s 4ms/step - loss: 0.5454 - accuracy: 0.7323 - mse: 0.1830 - val_loss: 0.9884 - val_accuracy: 0.5341 - val_mse: 0.3531\n",
            "Epoch 80/100\n",
            "858/858 [==============================] - 2s 3ms/step - loss: 0.5455 - accuracy: 0.7325 - mse: 0.1830 - val_loss: 1.0304 - val_accuracy: 0.5341 - val_mse: 0.3629\n",
            "Epoch 81/100\n",
            "858/858 [==============================] - 2s 3ms/step - loss: 0.5454 - accuracy: 0.7326 - mse: 0.1830 - val_loss: 1.0494 - val_accuracy: 0.5341 - val_mse: 0.3670\n",
            "Epoch 82/100\n",
            "858/858 [==============================] - 2s 3ms/step - loss: 0.5454 - accuracy: 0.7322 - mse: 0.1830 - val_loss: 1.0219 - val_accuracy: 0.5341 - val_mse: 0.3610\n",
            "Epoch 83/100\n",
            "858/858 [==============================] - 3s 3ms/step - loss: 0.5455 - accuracy: 0.7324 - mse: 0.1830 - val_loss: 1.0204 - val_accuracy: 0.5341 - val_mse: 0.3606\n",
            "Epoch 84/100\n",
            "858/858 [==============================] - 3s 4ms/step - loss: 0.5453 - accuracy: 0.7324 - mse: 0.1829 - val_loss: 1.0170 - val_accuracy: 0.5341 - val_mse: 0.3597\n",
            "Epoch 85/100\n",
            "858/858 [==============================] - 2s 3ms/step - loss: 0.5457 - accuracy: 0.7328 - mse: 0.1831 - val_loss: 0.7410 - val_accuracy: 0.5341 - val_mse: 0.2713\n",
            "Epoch 86/100\n",
            "858/858 [==============================] - 2s 3ms/step - loss: 0.5453 - accuracy: 0.7327 - mse: 0.1829 - val_loss: 1.0304 - val_accuracy: 0.5341 - val_mse: 0.3629\n",
            "Epoch 87/100\n",
            "858/858 [==============================] - 2s 3ms/step - loss: 0.5453 - accuracy: 0.7318 - mse: 0.1829 - val_loss: 1.0262 - val_accuracy: 0.5341 - val_mse: 0.3619\n",
            "Epoch 88/100\n",
            "858/858 [==============================] - 3s 3ms/step - loss: 0.5453 - accuracy: 0.7326 - mse: 0.1829 - val_loss: 1.0112 - val_accuracy: 0.5341 - val_mse: 0.3585\n",
            "Epoch 89/100\n",
            "858/858 [==============================] - 3s 4ms/step - loss: 0.5451 - accuracy: 0.7322 - mse: 0.1829 - val_loss: 1.0256 - val_accuracy: 0.5341 - val_mse: 0.3618\n",
            "Epoch 90/100\n",
            "858/858 [==============================] - 2s 3ms/step - loss: 0.5450 - accuracy: 0.7324 - mse: 0.1828 - val_loss: 1.0497 - val_accuracy: 0.5341 - val_mse: 0.3671\n",
            "Epoch 91/100\n",
            "858/858 [==============================] - 2s 3ms/step - loss: 0.5453 - accuracy: 0.7323 - mse: 0.1829 - val_loss: 1.0352 - val_accuracy: 0.5341 - val_mse: 0.3640\n",
            "Epoch 92/100\n",
            "858/858 [==============================] - 2s 3ms/step - loss: 0.5452 - accuracy: 0.7324 - mse: 0.1828 - val_loss: 1.0109 - val_accuracy: 0.5341 - val_mse: 0.3584\n",
            "Epoch 93/100\n",
            "858/858 [==============================] - 3s 4ms/step - loss: 0.5451 - accuracy: 0.7321 - mse: 0.1829 - val_loss: 1.0270 - val_accuracy: 0.5341 - val_mse: 0.3621\n",
            "Epoch 94/100\n",
            "858/858 [==============================] - 3s 3ms/step - loss: 0.5453 - accuracy: 0.7326 - mse: 0.1830 - val_loss: 1.0157 - val_accuracy: 0.5341 - val_mse: 0.3596\n",
            "Epoch 95/100\n",
            "858/858 [==============================] - 3s 3ms/step - loss: 0.5451 - accuracy: 0.7320 - mse: 0.1829 - val_loss: 1.0049 - val_accuracy: 0.5341 - val_mse: 0.3570\n",
            "Epoch 96/100\n",
            "858/858 [==============================] - 2s 3ms/step - loss: 0.5448 - accuracy: 0.7325 - mse: 0.1828 - val_loss: 0.9992 - val_accuracy: 0.5341 - val_mse: 0.3557\n",
            "Epoch 97/100\n",
            "858/858 [==============================] - 2s 3ms/step - loss: 0.5451 - accuracy: 0.7324 - mse: 0.1829 - val_loss: 1.0218 - val_accuracy: 0.5341 - val_mse: 0.3609\n",
            "Epoch 98/100\n",
            "858/858 [==============================] - 3s 4ms/step - loss: 0.5450 - accuracy: 0.7310 - mse: 0.1828 - val_loss: 1.0000 - val_accuracy: 0.5341 - val_mse: 0.3559\n",
            "Epoch 99/100\n",
            "858/858 [==============================] - 3s 3ms/step - loss: 0.5450 - accuracy: 0.7320 - mse: 0.1829 - val_loss: 1.0098 - val_accuracy: 0.5341 - val_mse: 0.3582\n",
            "Epoch 100/100\n",
            "858/858 [==============================] - 2s 3ms/step - loss: 0.5451 - accuracy: 0.7324 - mse: 0.1829 - val_loss: 1.0248 - val_accuracy: 0.5341 - val_mse: 0.3616\n"
          ]
        }
      ],
      "source": [
        "# Train the model\n",
        "fit_model = model.fit(X_train_scaled, y_train, epochs = 100, validation_data=(X_test,y_test))"
      ]
    },
    {
      "cell_type": "code",
      "source": [
        "# Evaluate the model using the test data\n",
        "model_loss, model_accuracy, model_mse = model.evaluate(X_test_scaled,y_test,verbose=2)\n",
        "print(f\"Loss: {model_loss}, Accuracy: {model_accuracy}\")"
      ],
      "metadata": {
        "colab": {
          "base_uri": "https://localhost:8080/"
        },
        "id": "6tTGNqq3dpOD",
        "outputId": "55493916-01bf-4b58-9d87-9c4f7638fe44"
      },
      "execution_count": 18,
      "outputs": [
        {
          "output_type": "stream",
          "name": "stdout",
          "text": [
            "215/215 - 1s - loss: 0.5572 - accuracy: 0.7296 - mse: 0.1875 - 994ms/epoch - 5ms/step\n",
            "Loss: 0.5572168231010437, Accuracy: 0.7295918464660645\n"
          ]
        }
      ]
    },
    {
      "cell_type": "code",
      "source": [
        "# Evaluate the model using the test data\n",
        "# Create a DataFrame containing training history\n",
        "history_df = pd.DataFrame(fit_model.history)\n",
        "\n",
        "# Increase the index by 1 to match the number of epochs\n",
        "history_df.index += 1\n",
        "# Plot the loss\n",
        "history_df.plot(y=\"loss\")"
      ],
      "metadata": {
        "colab": {
          "base_uri": "https://localhost:8080/",
          "height": 449
        },
        "id": "yLpcULbBisA6",
        "outputId": "734fb66f-1fc5-49bb-97c3-9a592fa1e505"
      },
      "execution_count": 19,
      "outputs": [
        {
          "output_type": "execute_result",
          "data": {
            "text/plain": [
              "<Axes: >"
            ]
          },
          "metadata": {},
          "execution_count": 19
        },
        {
          "output_type": "display_data",
          "data": {
            "text/plain": [
              "<Figure size 640x480 with 1 Axes>"
            ],
            "image/png": "[encoded data removed]"
          },
          "metadata": {}
        }
      ]
    },
    {
      "cell_type": "code",
      "source": [
        "history_df.plot(y=\"accuracy\")"
      ],
      "metadata": {
        "colab": {
          "base_uri": "https://localhost:8080/",
          "height": 447
        },
        "id": "p7jQjEJRkB47",
        "outputId": "72d20f46-8cad-40b2-dd7d-67f73e471486"
      },
      "execution_count": 20,
      "outputs": [
        {
          "output_type": "execute_result",
          "data": {
            "text/plain": [
              "<Axes: >"
            ]
          },
          "metadata": {},
          "execution_count": 20
        },
        {
          "output_type": "display_data",
          "data": {
            "text/plain": [
              "<Figure size 640x480 with 1 Axes>"
            ],
            "image/png": "[encoded data removed]"
          },
          "metadata": {}
        }
      ]
    },
    {
      "cell_type": "code",
      "execution_count": 21,
      "metadata": {
        "id": "f2WxtZuSnD1m"
      },
      "outputs": [],
      "source": [
        "# Export our model to HDF5 file\n",
        "model.save(\"model.h5\")"
      ]
    }
  ],
  "metadata": {
    "kernelspec": {
      "display_name": "Python 3 (ipykernel)",
      "language": "python",
      "name": "python3"
    },
    "language_info": {
      "codemirror_mode": {
        "name": "ipython",
        "version": 3
      },
      "file_extension": ".py",
      "mimetype": "text/x-python",
      "name": "python",
      "nbconvert_exporter": "python",
      "pygments_lexer": "ipython3",
      "version": "3.9.13"
    },
    "vscode": {
      "interpreter": {
        "hash": "31f2aee4e71d21fbe5cf8b01ff0e069b9275f58929596ceb00d14d90e3e16cd6"
      }
    },
    "colab": {
      "provenance": []
    }
  },
  "nbformat": 4,
  "nbformat_minor": 0
}